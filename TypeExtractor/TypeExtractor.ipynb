{
 "nbformat": 4,
 "nbformat_minor": 2,
 "metadata": {
  "language_info": {
   "name": "python",
   "codemirror_mode": {
    "name": "ipython",
    "version": 3
   },
   "version": "3.8.1-final"
  },
  "orig_nbformat": 2,
  "file_extension": ".py",
  "mimetype": "text/x-python",
  "name": "python",
  "npconvert_exporter": "python",
  "pygments_lexer": "ipython3",
  "version": 3,
  "kernelspec": {
   "name": "python38164bitdae505f781b54f8c844f02b2bcf41454",
   "display_name": "Python 3.8.1 64-bit"
  }
 },
 "cells": [
  {
   "cell_type": "code",
   "execution_count": 1,
   "metadata": {},
   "outputs": [],
   "source": [
    "import pandas as pd"
   ]
  },
  {
   "cell_type": "code",
   "execution_count": 2,
   "metadata": {},
   "outputs": [],
   "source": [
    "df = pd.read_csv('https://datahub.io/machine-learning/bank-marketing/r/bank-marketing.csv')"
   ]
  },
  {
   "cell_type": "code",
   "execution_count": 3,
   "metadata": {},
   "outputs": [
    {
     "data": {
      "text/html": "<div>\n<style scoped>\n    .dataframe tbody tr th:only-of-type {\n        vertical-align: middle;\n    }\n\n    .dataframe tbody tr th {\n        vertical-align: top;\n    }\n\n    .dataframe thead th {\n        text-align: right;\n    }\n</style>\n<table border=\"1\" class=\"dataframe\">\n  <thead>\n    <tr style=\"text-align: right;\">\n      <th></th>\n      <th>V1</th>\n      <th>V2</th>\n      <th>V3</th>\n      <th>V4</th>\n      <th>V5</th>\n      <th>V6</th>\n      <th>V7</th>\n      <th>V8</th>\n      <th>V9</th>\n      <th>V10</th>\n      <th>V11</th>\n      <th>V12</th>\n      <th>V13</th>\n      <th>V14</th>\n      <th>V15</th>\n      <th>V16</th>\n      <th>Class</th>\n    </tr>\n  </thead>\n  <tbody>\n    <tr>\n      <th>0</th>\n      <td>58</td>\n      <td>management</td>\n      <td>married</td>\n      <td>tertiary</td>\n      <td>no</td>\n      <td>2143</td>\n      <td>yes</td>\n      <td>no</td>\n      <td>unknown</td>\n      <td>5</td>\n      <td>may</td>\n      <td>261</td>\n      <td>1</td>\n      <td>-1</td>\n      <td>0</td>\n      <td>unknown</td>\n      <td>1</td>\n    </tr>\n    <tr>\n      <th>1</th>\n      <td>44</td>\n      <td>technician</td>\n      <td>single</td>\n      <td>secondary</td>\n      <td>no</td>\n      <td>29</td>\n      <td>yes</td>\n      <td>no</td>\n      <td>unknown</td>\n      <td>5</td>\n      <td>may</td>\n      <td>151</td>\n      <td>1</td>\n      <td>-1</td>\n      <td>0</td>\n      <td>unknown</td>\n      <td>1</td>\n    </tr>\n    <tr>\n      <th>2</th>\n      <td>33</td>\n      <td>entrepreneur</td>\n      <td>married</td>\n      <td>secondary</td>\n      <td>no</td>\n      <td>2</td>\n      <td>yes</td>\n      <td>yes</td>\n      <td>unknown</td>\n      <td>5</td>\n      <td>may</td>\n      <td>76</td>\n      <td>1</td>\n      <td>-1</td>\n      <td>0</td>\n      <td>unknown</td>\n      <td>1</td>\n    </tr>\n    <tr>\n      <th>3</th>\n      <td>47</td>\n      <td>blue-collar</td>\n      <td>married</td>\n      <td>unknown</td>\n      <td>no</td>\n      <td>1506</td>\n      <td>yes</td>\n      <td>no</td>\n      <td>unknown</td>\n      <td>5</td>\n      <td>may</td>\n      <td>92</td>\n      <td>1</td>\n      <td>-1</td>\n      <td>0</td>\n      <td>unknown</td>\n      <td>1</td>\n    </tr>\n    <tr>\n      <th>4</th>\n      <td>33</td>\n      <td>unknown</td>\n      <td>single</td>\n      <td>unknown</td>\n      <td>no</td>\n      <td>1</td>\n      <td>no</td>\n      <td>no</td>\n      <td>unknown</td>\n      <td>5</td>\n      <td>may</td>\n      <td>198</td>\n      <td>1</td>\n      <td>-1</td>\n      <td>0</td>\n      <td>unknown</td>\n      <td>1</td>\n    </tr>\n  </tbody>\n</table>\n</div>",
      "text/plain": "   V1            V2       V3         V4  V5    V6   V7   V8       V9  V10  \\\n0  58    management  married   tertiary  no  2143  yes   no  unknown    5   \n1  44    technician   single  secondary  no    29  yes   no  unknown    5   \n2  33  entrepreneur  married  secondary  no     2  yes  yes  unknown    5   \n3  47   blue-collar  married    unknown  no  1506  yes   no  unknown    5   \n4  33       unknown   single    unknown  no     1   no   no  unknown    5   \n\n   V11  V12  V13  V14  V15      V16  Class  \n0  may  261    1   -1    0  unknown      1  \n1  may  151    1   -1    0  unknown      1  \n2  may   76    1   -1    0  unknown      1  \n3  may   92    1   -1    0  unknown      1  \n4  may  198    1   -1    0  unknown      1  "
     },
     "execution_count": 3,
     "metadata": {},
     "output_type": "execute_result"
    }
   ],
   "source": [
    "df.head()"
   ]
  },
  {
   "cell_type": "code",
   "execution_count": 4,
   "metadata": {},
   "outputs": [],
   "source": [
    "df[['V5', 'V7', 'V8']] = df[['V5', 'V7', 'V8']].applymap(lambda x: True if x=='yes' else False)"
   ]
  },
  {
   "cell_type": "code",
   "execution_count": 5,
   "metadata": {},
   "outputs": [
    {
     "data": {
      "text/plain": "V1        int64\nV2       object\nV3       object\nV4       object\nV5         bool\nV6        int64\nV7         bool\nV8         bool\nV9       object\nV10       int64\nV11      object\nV12       int64\nV13       int64\nV14       int64\nV15       int64\nV16      object\nClass     int64\ndtype: object"
     },
     "execution_count": 5,
     "metadata": {},
     "output_type": "execute_result"
    }
   ],
   "source": [
    "df.dtypes"
   ]
  },
  {
   "cell_type": "code",
   "execution_count": 6,
   "metadata": {},
   "outputs": [],
   "source": [
    "from TypeExtractor import TypeExtractor"
   ]
  },
  {
   "cell_type": "code",
   "execution_count": 15,
   "metadata": {},
   "outputs": [],
   "source": [
    "selected = TypeExtractor(['object', 'timedelta'], True).fit_transform(df)"
   ]
  },
  {
   "cell_type": "code",
   "execution_count": 16,
   "metadata": {},
   "outputs": [
    {
     "data": {
      "text/html": "<div>\n<style scoped>\n    .dataframe tbody tr th:only-of-type {\n        vertical-align: middle;\n    }\n\n    .dataframe tbody tr th {\n        vertical-align: top;\n    }\n\n    .dataframe thead th {\n        text-align: right;\n    }\n</style>\n<table border=\"1\" class=\"dataframe\">\n  <thead>\n    <tr style=\"text-align: right;\">\n      <th></th>\n      <th>V2</th>\n      <th>V3</th>\n      <th>V4</th>\n      <th>V9</th>\n      <th>V11</th>\n      <th>V16</th>\n    </tr>\n  </thead>\n  <tbody>\n    <tr>\n      <th>0</th>\n      <td>management</td>\n      <td>married</td>\n      <td>tertiary</td>\n      <td>unknown</td>\n      <td>may</td>\n      <td>unknown</td>\n    </tr>\n    <tr>\n      <th>1</th>\n      <td>technician</td>\n      <td>single</td>\n      <td>secondary</td>\n      <td>unknown</td>\n      <td>may</td>\n      <td>unknown</td>\n    </tr>\n    <tr>\n      <th>2</th>\n      <td>entrepreneur</td>\n      <td>married</td>\n      <td>secondary</td>\n      <td>unknown</td>\n      <td>may</td>\n      <td>unknown</td>\n    </tr>\n    <tr>\n      <th>3</th>\n      <td>blue-collar</td>\n      <td>married</td>\n      <td>unknown</td>\n      <td>unknown</td>\n      <td>may</td>\n      <td>unknown</td>\n    </tr>\n    <tr>\n      <th>4</th>\n      <td>unknown</td>\n      <td>single</td>\n      <td>unknown</td>\n      <td>unknown</td>\n      <td>may</td>\n      <td>unknown</td>\n    </tr>\n    <tr>\n      <th>...</th>\n      <td>...</td>\n      <td>...</td>\n      <td>...</td>\n      <td>...</td>\n      <td>...</td>\n      <td>...</td>\n    </tr>\n    <tr>\n      <th>45206</th>\n      <td>technician</td>\n      <td>married</td>\n      <td>tertiary</td>\n      <td>cellular</td>\n      <td>nov</td>\n      <td>unknown</td>\n    </tr>\n    <tr>\n      <th>45207</th>\n      <td>retired</td>\n      <td>divorced</td>\n      <td>primary</td>\n      <td>cellular</td>\n      <td>nov</td>\n      <td>unknown</td>\n    </tr>\n    <tr>\n      <th>45208</th>\n      <td>retired</td>\n      <td>married</td>\n      <td>secondary</td>\n      <td>cellular</td>\n      <td>nov</td>\n      <td>success</td>\n    </tr>\n    <tr>\n      <th>45209</th>\n      <td>blue-collar</td>\n      <td>married</td>\n      <td>secondary</td>\n      <td>telephone</td>\n      <td>nov</td>\n      <td>unknown</td>\n    </tr>\n    <tr>\n      <th>45210</th>\n      <td>entrepreneur</td>\n      <td>married</td>\n      <td>secondary</td>\n      <td>cellular</td>\n      <td>nov</td>\n      <td>other</td>\n    </tr>\n  </tbody>\n</table>\n<p>45211 rows × 6 columns</p>\n</div>",
      "text/plain": "                 V2        V3         V4         V9  V11      V16\n0        management   married   tertiary    unknown  may  unknown\n1        technician    single  secondary    unknown  may  unknown\n2      entrepreneur   married  secondary    unknown  may  unknown\n3       blue-collar   married    unknown    unknown  may  unknown\n4           unknown    single    unknown    unknown  may  unknown\n...             ...       ...        ...        ...  ...      ...\n45206    technician   married   tertiary   cellular  nov  unknown\n45207       retired  divorced    primary   cellular  nov  unknown\n45208       retired   married  secondary   cellular  nov  success\n45209   blue-collar   married  secondary  telephone  nov  unknown\n45210  entrepreneur   married  secondary   cellular  nov    other\n\n[45211 rows x 6 columns]"
     },
     "execution_count": 16,
     "metadata": {},
     "output_type": "execute_result"
    }
   ],
   "source": [
    "selected"
   ]
  }
 ]
}